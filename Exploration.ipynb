{
 "cells": [
  {
   "cell_type": "markdown",
   "metadata": {},
   "source": [
    "# Import & Setup"
   ]
  },
  {
   "cell_type": "code",
   "execution_count": 1,
   "metadata": {},
   "outputs": [],
   "source": [
    "import os\n",
    "import sys\n",
    "import numpy as np\n",
    "import pandas as pd\n",
    "import matplotlib.pyplot as plt\n",
    "\n",
    "# Get the current directory\n",
    "current_dir = os.path.abspath('')\n",
    "\n",
    "# Add the src directory to the system path\n",
    "src_path = os.path.join(current_dir, 'src')\n",
    "sys.path.insert(0, src_path)\n",
    "\n",
    "from pathlib import Path\n",
    "from preprocessing_reviews import preprocessing_review as pr"
   ]
  },
  {
   "cell_type": "code",
   "execution_count": 2,
   "metadata": {},
   "outputs": [],
   "source": [
    "path_to_data = Path.cwd() / \"data/IMDB-movie-reviews.csv\""
   ]
  },
  {
   "cell_type": "code",
   "execution_count": 3,
   "metadata": {},
   "outputs": [],
   "source": [
    "reviews = pd.read_csv(filepath_or_buffer=path_to_data,\n",
    "                      header=0,\n",
    "                      sep=\";\",\n",
    "                      encoding=\"latin-1\")"
   ]
  },
  {
   "cell_type": "markdown",
   "metadata": {},
   "source": [
    "## Exploring - Cleaning - Transforming"
   ]
  },
  {
   "cell_type": "code",
   "execution_count": 37,
   "metadata": {},
   "outputs": [
    {
     "data": {
      "text/html": [
       "<div>\n",
       "<style scoped>\n",
       "    .dataframe tbody tr th:only-of-type {\n",
       "        vertical-align: middle;\n",
       "    }\n",
       "\n",
       "    .dataframe tbody tr th {\n",
       "        vertical-align: top;\n",
       "    }\n",
       "\n",
       "    .dataframe thead th {\n",
       "        text-align: right;\n",
       "    }\n",
       "</style>\n",
       "<table border=\"1\" class=\"dataframe\">\n",
       "  <thead>\n",
       "    <tr style=\"text-align: right;\">\n",
       "      <th></th>\n",
       "      <th>review</th>\n",
       "      <th>sentiment</th>\n",
       "    </tr>\n",
       "  </thead>\n",
       "  <tbody>\n",
       "    <tr>\n",
       "      <th>0</th>\n",
       "      <td>One of the other reviewers has mentioned that ...</td>\n",
       "      <td>1</td>\n",
       "    </tr>\n",
       "    <tr>\n",
       "      <th>1</th>\n",
       "      <td>A wonderful little production. The filming tec...</td>\n",
       "      <td>1</td>\n",
       "    </tr>\n",
       "    <tr>\n",
       "      <th>2</th>\n",
       "      <td>I thought this was a wonderful way to spend ti...</td>\n",
       "      <td>1</td>\n",
       "    </tr>\n",
       "    <tr>\n",
       "      <th>3</th>\n",
       "      <td>Basically there's a family where a little boy ...</td>\n",
       "      <td>0</td>\n",
       "    </tr>\n",
       "    <tr>\n",
       "      <th>4</th>\n",
       "      <td>Petter Mattei's \"Love in the Time of Money\" is...</td>\n",
       "      <td>1</td>\n",
       "    </tr>\n",
       "    <tr>\n",
       "      <th>5</th>\n",
       "      <td>Probably my all-time favorite movie, a story o...</td>\n",
       "      <td>1</td>\n",
       "    </tr>\n",
       "    <tr>\n",
       "      <th>6</th>\n",
       "      <td>I sure would like to see a resurrection of a u...</td>\n",
       "      <td>1</td>\n",
       "    </tr>\n",
       "    <tr>\n",
       "      <th>7</th>\n",
       "      <td>This show was an amazing, fresh &amp; innovative i...</td>\n",
       "      <td>0</td>\n",
       "    </tr>\n",
       "    <tr>\n",
       "      <th>8</th>\n",
       "      <td>Encouraged by the positive comments about this...</td>\n",
       "      <td>0</td>\n",
       "    </tr>\n",
       "    <tr>\n",
       "      <th>9</th>\n",
       "      <td>If you like original gut wrenching laughter yo...</td>\n",
       "      <td>1</td>\n",
       "    </tr>\n",
       "    <tr>\n",
       "      <th>10</th>\n",
       "      <td>Phil the Alien is one of those quirky films wh...</td>\n",
       "      <td>0</td>\n",
       "    </tr>\n",
       "    <tr>\n",
       "      <th>11</th>\n",
       "      <td>I saw this movie when I was about 12 when it c...</td>\n",
       "      <td>0</td>\n",
       "    </tr>\n",
       "    <tr>\n",
       "      <th>12</th>\n",
       "      <td>So im not a big fan of Boll's work but then ag...</td>\n",
       "      <td>0</td>\n",
       "    </tr>\n",
       "    <tr>\n",
       "      <th>13</th>\n",
       "      <td>The cast played Shakespeare.Shakespeare lost.I...</td>\n",
       "      <td>0</td>\n",
       "    </tr>\n",
       "    <tr>\n",
       "      <th>14</th>\n",
       "      <td>This a fantastic movie of three prisoners who ...</td>\n",
       "      <td>1</td>\n",
       "    </tr>\n",
       "    <tr>\n",
       "      <th>15</th>\n",
       "      <td>Kind of drawn in by the erotic scenes, only to...</td>\n",
       "      <td>0</td>\n",
       "    </tr>\n",
       "    <tr>\n",
       "      <th>16</th>\n",
       "      <td>Some films just simply should not be remade. T...</td>\n",
       "      <td>1</td>\n",
       "    </tr>\n",
       "    <tr>\n",
       "      <th>17</th>\n",
       "      <td>This movie made it into one of my top 10 most ...</td>\n",
       "      <td>0</td>\n",
       "    </tr>\n",
       "    <tr>\n",
       "      <th>18</th>\n",
       "      <td>I remember this film,it was the first film i h...</td>\n",
       "      <td>1</td>\n",
       "    </tr>\n",
       "    <tr>\n",
       "      <th>19</th>\n",
       "      <td>An awful film! It must have been up against so...</td>\n",
       "      <td>0</td>\n",
       "    </tr>\n",
       "    <tr>\n",
       "      <th>20</th>\n",
       "      <td>After the success of Die Hard and it's sequels...</td>\n",
       "      <td>1</td>\n",
       "    </tr>\n",
       "    <tr>\n",
       "      <th>21</th>\n",
       "      <td>I had the terrible misfortune of having to vie...</td>\n",
       "      <td>0</td>\n",
       "    </tr>\n",
       "    <tr>\n",
       "      <th>22</th>\n",
       "      <td>What an absolutely stunning movie, if you have...</td>\n",
       "      <td>1</td>\n",
       "    </tr>\n",
       "    <tr>\n",
       "      <th>23</th>\n",
       "      <td>First of all, let's get a few things straight ...</td>\n",
       "      <td>0</td>\n",
       "    </tr>\n",
       "    <tr>\n",
       "      <th>24</th>\n",
       "      <td>This was the worst movie I saw at WorldFest an...</td>\n",
       "      <td>0</td>\n",
       "    </tr>\n",
       "    <tr>\n",
       "      <th>25</th>\n",
       "      <td>The Karen Carpenter Story shows a little more ...</td>\n",
       "      <td>1</td>\n",
       "    </tr>\n",
       "    <tr>\n",
       "      <th>26</th>\n",
       "      <td>\"The Cell\" is an exotic masterpiece, a dizzyin...</td>\n",
       "      <td>1</td>\n",
       "    </tr>\n",
       "    <tr>\n",
       "      <th>27</th>\n",
       "      <td>This film tried to be too many things all at o...</td>\n",
       "      <td>0</td>\n",
       "    </tr>\n",
       "    <tr>\n",
       "      <th>28</th>\n",
       "      <td>This movie was so frustrating. Everything seem...</td>\n",
       "      <td>0</td>\n",
       "    </tr>\n",
       "    <tr>\n",
       "      <th>29</th>\n",
       "      <td>'War movie' is a Hollywood genre that has been...</td>\n",
       "      <td>1</td>\n",
       "    </tr>\n",
       "  </tbody>\n",
       "</table>\n",
       "</div>"
      ],
      "text/plain": [
       "                                               review  sentiment\n",
       "0   One of the other reviewers has mentioned that ...          1\n",
       "1   A wonderful little production. The filming tec...          1\n",
       "2   I thought this was a wonderful way to spend ti...          1\n",
       "3   Basically there's a family where a little boy ...          0\n",
       "4   Petter Mattei's \"Love in the Time of Money\" is...          1\n",
       "5   Probably my all-time favorite movie, a story o...          1\n",
       "6   I sure would like to see a resurrection of a u...          1\n",
       "7   This show was an amazing, fresh & innovative i...          0\n",
       "8   Encouraged by the positive comments about this...          0\n",
       "9   If you like original gut wrenching laughter yo...          1\n",
       "10  Phil the Alien is one of those quirky films wh...          0\n",
       "11  I saw this movie when I was about 12 when it c...          0\n",
       "12  So im not a big fan of Boll's work but then ag...          0\n",
       "13  The cast played Shakespeare.Shakespeare lost.I...          0\n",
       "14  This a fantastic movie of three prisoners who ...          1\n",
       "15  Kind of drawn in by the erotic scenes, only to...          0\n",
       "16  Some films just simply should not be remade. T...          1\n",
       "17  This movie made it into one of my top 10 most ...          0\n",
       "18  I remember this film,it was the first film i h...          1\n",
       "19  An awful film! It must have been up against so...          0\n",
       "20  After the success of Die Hard and it's sequels...          1\n",
       "21  I had the terrible misfortune of having to vie...          0\n",
       "22  What an absolutely stunning movie, if you have...          1\n",
       "23  First of all, let's get a few things straight ...          0\n",
       "24  This was the worst movie I saw at WorldFest an...          0\n",
       "25  The Karen Carpenter Story shows a little more ...          1\n",
       "26  \"The Cell\" is an exotic masterpiece, a dizzyin...          1\n",
       "27  This film tried to be too many things all at o...          0\n",
       "28  This movie was so frustrating. Everything seem...          0\n",
       "29  'War movie' is a Hollywood genre that has been...          1"
      ]
     },
     "execution_count": 37,
     "metadata": {},
     "output_type": "execute_result"
    }
   ],
   "source": [
    "# Check the \"reviews\" dataframe\n",
    "reviews.head(n=30)"
   ]
  },
  {
   "cell_type": "code",
   "execution_count": 5,
   "metadata": {},
   "outputs": [
    {
     "name": "stdout",
     "output_type": "stream",
     "text": [
      "The Longest review in characters? 4009\n"
     ]
    }
   ],
   "source": [
    "print(f\"The Longest review in characters? {max(reviews['review'].apply(lambda review: len(review)))}\")"
   ]
  },
  {
   "cell_type": "code",
   "execution_count": 6,
   "metadata": {},
   "outputs": [],
   "source": [
    "# HTML Tags Removal\n",
    "reviews['review'] = reviews['review'].apply(lambda review: pr.remove_html_tags(review))"
   ]
  },
  {
   "cell_type": "code",
   "execution_count": 7,
   "metadata": {},
   "outputs": [
    {
     "name": "stdout",
     "output_type": "stream",
     "text": [
      "The longest review in characters after removing HTML tags and useless spaces? 3973\n"
     ]
    }
   ],
   "source": [
    "# Insights\n",
    "print(f\"The longest review in characters after removing HTML tags and useless spaces? {max(reviews['review'].apply(lambda review: len(review)))}\")"
   ]
  },
  {
   "cell_type": "code",
   "execution_count": 8,
   "metadata": {},
   "outputs": [
    {
     "data": {
      "text/plain": [
       "sentiment\n",
       "negative    58.0\n",
       "positive    42.0\n",
       "Name: count, dtype: float64"
      ]
     },
     "execution_count": 8,
     "metadata": {},
     "output_type": "execute_result"
    }
   ],
   "source": [
    "(reviews['sentiment'].value_counts() / len(reviews) * 100)"
   ]
  },
  {
   "cell_type": "code",
   "execution_count": 9,
   "metadata": {},
   "outputs": [
    {
     "data": {
      "image/png": "[encoded data removed]",
      "text/plain": [
       "<Figure size 640x480 with 1 Axes>"
      ]
     },
     "metadata": {},
     "output_type": "display_data"
    }
   ],
   "source": [
    "# Visualization\n",
    "length_reviews_as_tokens = [len(review.split()) for review in reviews['review'].tolist()]\n",
    "counts, values, _ = plt.hist(length_reviews_as_tokens)\n",
    "_ = plt.title(\"Length of the Reviews (Tokens)\")"
   ]
  },
  {
   "cell_type": "markdown",
   "metadata": {},
   "source": [
    "The maximal number of \"tokens\" for a given review seems to be between 650 and 700. However the volume of such reviews is low. Let's see how many of them have a length higher than 512."
   ]
  },
  {
   "cell_type": "code",
   "execution_count": 10,
   "metadata": {},
   "outputs": [
    {
     "name": "stdout",
     "output_type": "stream",
     "text": [
      "Maximal number of tokens in a review? 693 tokens\n"
     ]
    }
   ],
   "source": [
    "print(f\"Maximal number of tokens in a review? {int(max(values))} tokens\")"
   ]
  },
  {
   "cell_type": "code",
   "execution_count": 11,
   "metadata": {},
   "outputs": [
    {
     "name": "stdout",
     "output_type": "stream",
     "text": [
      "Proportion of reviews with more than 512 tokens? 7.0%\n"
     ]
    }
   ],
   "source": [
    "print(f\"Proportion of reviews with more than 512 tokens? {np.round(np.sum(reviews['review'].apply(lambda review: len(review.split())) > 512) / len(reviews['review']) * 100, 2)}%\")"
   ]
  },
  {
   "cell_type": "code",
   "execution_count": 12,
   "metadata": {},
   "outputs": [],
   "source": [
    "reviews['sentiment'] = reviews['sentiment'].apply(lambda sentiment: pr.convert_target_variable(sentiment))"
   ]
  },
  {
   "cell_type": "code",
   "execution_count": 13,
   "metadata": {},
   "outputs": [
    {
     "data": {
      "text/html": [
       "<div>\n",
       "<style scoped>\n",
       "    .dataframe tbody tr th:only-of-type {\n",
       "        vertical-align: middle;\n",
       "    }\n",
       "\n",
       "    .dataframe tbody tr th {\n",
       "        vertical-align: top;\n",
       "    }\n",
       "\n",
       "    .dataframe thead th {\n",
       "        text-align: right;\n",
       "    }\n",
       "</style>\n",
       "<table border=\"1\" class=\"dataframe\">\n",
       "  <thead>\n",
       "    <tr style=\"text-align: right;\">\n",
       "      <th></th>\n",
       "      <th>review</th>\n",
       "      <th>sentiment</th>\n",
       "    </tr>\n",
       "  </thead>\n",
       "  <tbody>\n",
       "    <tr>\n",
       "      <th>0</th>\n",
       "      <td>One of the other reviewers has mentioned that ...</td>\n",
       "      <td>1</td>\n",
       "    </tr>\n",
       "    <tr>\n",
       "      <th>1</th>\n",
       "      <td>A wonderful little production. The filming tec...</td>\n",
       "      <td>1</td>\n",
       "    </tr>\n",
       "    <tr>\n",
       "      <th>2</th>\n",
       "      <td>I thought this was a wonderful way to spend ti...</td>\n",
       "      <td>1</td>\n",
       "    </tr>\n",
       "    <tr>\n",
       "      <th>3</th>\n",
       "      <td>Basically there's a family where a little boy ...</td>\n",
       "      <td>0</td>\n",
       "    </tr>\n",
       "    <tr>\n",
       "      <th>4</th>\n",
       "      <td>Petter Mattei's \"Love in the Time of Money\" is...</td>\n",
       "      <td>1</td>\n",
       "    </tr>\n",
       "    <tr>\n",
       "      <th>5</th>\n",
       "      <td>Probably my all-time favorite movie, a story o...</td>\n",
       "      <td>1</td>\n",
       "    </tr>\n",
       "    <tr>\n",
       "      <th>6</th>\n",
       "      <td>I sure would like to see a resurrection of a u...</td>\n",
       "      <td>1</td>\n",
       "    </tr>\n",
       "    <tr>\n",
       "      <th>7</th>\n",
       "      <td>This show was an amazing, fresh &amp; innovative i...</td>\n",
       "      <td>0</td>\n",
       "    </tr>\n",
       "    <tr>\n",
       "      <th>8</th>\n",
       "      <td>Encouraged by the positive comments about this...</td>\n",
       "      <td>0</td>\n",
       "    </tr>\n",
       "    <tr>\n",
       "      <th>9</th>\n",
       "      <td>If you like original gut wrenching laughter yo...</td>\n",
       "      <td>1</td>\n",
       "    </tr>\n",
       "  </tbody>\n",
       "</table>\n",
       "</div>"
      ],
      "text/plain": [
       "                                              review  sentiment\n",
       "0  One of the other reviewers has mentioned that ...          1\n",
       "1  A wonderful little production. The filming tec...          1\n",
       "2  I thought this was a wonderful way to spend ti...          1\n",
       "3  Basically there's a family where a little boy ...          0\n",
       "4  Petter Mattei's \"Love in the Time of Money\" is...          1\n",
       "5  Probably my all-time favorite movie, a story o...          1\n",
       "6  I sure would like to see a resurrection of a u...          1\n",
       "7  This show was an amazing, fresh & innovative i...          0\n",
       "8  Encouraged by the positive comments about this...          0\n",
       "9  If you like original gut wrenching laughter yo...          1"
      ]
     },
     "execution_count": 13,
     "metadata": {},
     "output_type": "execute_result"
    }
   ],
   "source": [
    "# Last check\n",
    "reviews.head(n= 10)"
   ]
  },
  {
   "cell_type": "code",
   "execution_count": 14,
   "metadata": {},
   "outputs": [
    {
     "data": {
      "text/plain": [
       "sentiment\n",
       "0    58.0\n",
       "1    42.0\n",
       "Name: count, dtype: float64"
      ]
     },
     "execution_count": 14,
     "metadata": {},
     "output_type": "execute_result"
    }
   ],
   "source": [
    "(reviews['sentiment'].value_counts()/len(reviews['sentiment'])) * 100"
   ]
  },
  {
   "cell_type": "markdown",
   "metadata": {},
   "source": [
    "# Benchmark Evaluation"
   ]
  },
  {
   "cell_type": "code",
   "execution_count": 15,
   "metadata": {},
   "outputs": [
    {
     "name": "stderr",
     "output_type": "stream",
     "text": [
      "/Users/arnaudgueulette/projects_@2024/SentimentAnalysisProject/.SentimentAnalysisHuggingFace/lib/python3.10/site-packages/tqdm/auto.py:21: TqdmWarning: IProgress not found. Please update jupyter and ipywidgets. See https://ipywidgets.readthedocs.io/en/stable/user_install.html\n",
      "  from .autonotebook import tqdm as notebook_tqdm\n"
     ]
    }
   ],
   "source": [
    "# Use a pipeline as a high-level helper\n",
    "from transformers import pipeline"
   ]
  },
  {
   "cell_type": "markdown",
   "metadata": {},
   "source": [
    "## SiEBERT Model"
   ]
  },
  {
   "cell_type": "code",
   "execution_count": 16,
   "metadata": {},
   "outputs": [],
   "source": [
    "# SiEBERT - https://huggingface.co/siebert/sentiment-roberta-large-english\n",
    "pipeline_SiEBERT = pipeline(\"text-classification\",\n",
    "                             model=\"siebert/sentiment-roberta-large-english\")"
   ]
  },
  {
   "cell_type": "code",
   "execution_count": 17,
   "metadata": {},
   "outputs": [],
   "source": [
    "predictions_SiEBERT = pipeline_SiEBERT(reviews['review'].tolist(),\n",
    "                                       max_length=512,\n",
    "                                       truncation=True,\n",
    "                                       padding=True)"
   ]
  },
  {
   "cell_type": "code",
   "execution_count": 18,
   "metadata": {},
   "outputs": [],
   "source": [
    "predictions_SiEBERT = pd.DataFrame(predictions_SiEBERT)\n",
    "predictions_SiEBERT.columns = ['SiEBERT_pred_sentiment', 'SiEBERT_score']\n",
    "predictions_SiEBERT['SiEBERT_pred_sentiment'] = predictions_SiEBERT['SiEBERT_pred_sentiment'].apply(lambda pred_sentiment: pr.convert_target_variable(pred_sentiment))"
   ]
  },
  {
   "cell_type": "markdown",
   "metadata": {},
   "source": [
    "## DeBERTa-v2 Kaludi Model"
   ]
  },
  {
   "cell_type": "code",
   "execution_count": 19,
   "metadata": {},
   "outputs": [],
   "source": [
    "# DeBERTa-v2 Kaludi Model - https://huggingface.co/Kaludi/Reviews-Sentiment-Analysis\n",
    "pipeline_deBERTa = pipeline(\"text-classification\",\n",
    "                            model=\"Kaludi/Reviews-Sentiment-Analysis\")"
   ]
  },
  {
   "cell_type": "code",
   "execution_count": 20,
   "metadata": {},
   "outputs": [],
   "source": [
    "predictions_deBERTa = pipeline_deBERTa(reviews['review'].tolist(),\n",
    "                                       max_length=512,\n",
    "                                       truncation=True,\n",
    "                                       padding=True)"
   ]
  },
  {
   "cell_type": "code",
   "execution_count": 21,
   "metadata": {},
   "outputs": [],
   "source": [
    "predictions_deBERTa = pd.DataFrame(predictions_deBERTa)\n",
    "predictions_deBERTa.columns = ['deBERTa_pred_sentiment', 'deBERTa_score']\n",
    "predictions_deBERTa['deBERTa_pred_sentiment'] = predictions_deBERTa['deBERTa_pred_sentiment'].apply(lambda pred_sentiment: pr.convert_target_variable(pred_sentiment))"
   ]
  },
  {
   "cell_type": "markdown",
   "metadata": {},
   "source": [
    "## Results Analysis"
   ]
  },
  {
   "cell_type": "code",
   "execution_count": 22,
   "metadata": {},
   "outputs": [],
   "source": [
    "results = pd.concat([reviews, predictions_SiEBERT, predictions_deBERTa],\n",
    "                    ignore_index=True,\n",
    "                    axis = 1)\n",
    "\n",
    "results.columns = ['review', 'true_sentiment','SiEBERT_pred_sentiment', 'SiEBERT_score','deBERTa_pred_sentiment', 'deBERTa_score']"
   ]
  },
  {
   "cell_type": "code",
   "execution_count": 23,
   "metadata": {},
   "outputs": [
    {
     "data": {
      "text/html": [
       "<div>\n",
       "<style scoped>\n",
       "    .dataframe tbody tr th:only-of-type {\n",
       "        vertical-align: middle;\n",
       "    }\n",
       "\n",
       "    .dataframe tbody tr th {\n",
       "        vertical-align: top;\n",
       "    }\n",
       "\n",
       "    .dataframe thead th {\n",
       "        text-align: right;\n",
       "    }\n",
       "</style>\n",
       "<table border=\"1\" class=\"dataframe\">\n",
       "  <thead>\n",
       "    <tr style=\"text-align: right;\">\n",
       "      <th></th>\n",
       "      <th>review</th>\n",
       "      <th>true_sentiment</th>\n",
       "      <th>SiEBERT_pred_sentiment</th>\n",
       "      <th>SiEBERT_score</th>\n",
       "      <th>deBERTa_pred_sentiment</th>\n",
       "      <th>deBERTa_score</th>\n",
       "    </tr>\n",
       "  </thead>\n",
       "  <tbody>\n",
       "    <tr>\n",
       "      <th>0</th>\n",
       "      <td>One of the other reviewers has mentioned that ...</td>\n",
       "      <td>1</td>\n",
       "      <td>1</td>\n",
       "      <td>0.998805</td>\n",
       "      <td>1</td>\n",
       "      <td>0.992541</td>\n",
       "    </tr>\n",
       "    <tr>\n",
       "      <th>1</th>\n",
       "      <td>A wonderful little production. The filming tec...</td>\n",
       "      <td>1</td>\n",
       "      <td>1</td>\n",
       "      <td>0.998936</td>\n",
       "      <td>1</td>\n",
       "      <td>0.994760</td>\n",
       "    </tr>\n",
       "    <tr>\n",
       "      <th>2</th>\n",
       "      <td>I thought this was a wonderful way to spend ti...</td>\n",
       "      <td>1</td>\n",
       "      <td>1</td>\n",
       "      <td>0.998932</td>\n",
       "      <td>1</td>\n",
       "      <td>0.994600</td>\n",
       "    </tr>\n",
       "    <tr>\n",
       "      <th>3</th>\n",
       "      <td>Basically there's a family where a little boy ...</td>\n",
       "      <td>0</td>\n",
       "      <td>0</td>\n",
       "      <td>0.999490</td>\n",
       "      <td>0</td>\n",
       "      <td>0.992297</td>\n",
       "    </tr>\n",
       "    <tr>\n",
       "      <th>4</th>\n",
       "      <td>Petter Mattei's \"Love in the Time of Money\" is...</td>\n",
       "      <td>1</td>\n",
       "      <td>1</td>\n",
       "      <td>0.998886</td>\n",
       "      <td>1</td>\n",
       "      <td>0.994778</td>\n",
       "    </tr>\n",
       "    <tr>\n",
       "      <th>...</th>\n",
       "      <td>...</td>\n",
       "      <td>...</td>\n",
       "      <td>...</td>\n",
       "      <td>...</td>\n",
       "      <td>...</td>\n",
       "      <td>...</td>\n",
       "    </tr>\n",
       "    <tr>\n",
       "      <th>95</th>\n",
       "      <td>Daniel Day-Lewis is the most versatile actor a...</td>\n",
       "      <td>1</td>\n",
       "      <td>1</td>\n",
       "      <td>0.998918</td>\n",
       "      <td>1</td>\n",
       "      <td>0.994705</td>\n",
       "    </tr>\n",
       "    <tr>\n",
       "      <th>96</th>\n",
       "      <td>My guess would be this was originally going to...</td>\n",
       "      <td>0</td>\n",
       "      <td>0</td>\n",
       "      <td>0.999513</td>\n",
       "      <td>0</td>\n",
       "      <td>0.992594</td>\n",
       "    </tr>\n",
       "    <tr>\n",
       "      <th>97</th>\n",
       "      <td>Well, I like to watch bad horror B-Movies, cau...</td>\n",
       "      <td>0</td>\n",
       "      <td>0</td>\n",
       "      <td>0.999502</td>\n",
       "      <td>0</td>\n",
       "      <td>0.993925</td>\n",
       "    </tr>\n",
       "    <tr>\n",
       "      <th>98</th>\n",
       "      <td>This IS the worst movie I have ever seen, as w...</td>\n",
       "      <td>0</td>\n",
       "      <td>0</td>\n",
       "      <td>0.999515</td>\n",
       "      <td>0</td>\n",
       "      <td>0.993955</td>\n",
       "    </tr>\n",
       "    <tr>\n",
       "      <th>99</th>\n",
       "      <td>I have been a Mario fan for as long as I can r...</td>\n",
       "      <td>1</td>\n",
       "      <td>1</td>\n",
       "      <td>0.998911</td>\n",
       "      <td>1</td>\n",
       "      <td>0.982875</td>\n",
       "    </tr>\n",
       "  </tbody>\n",
       "</table>\n",
       "<p>100 rows × 6 columns</p>\n",
       "</div>"
      ],
      "text/plain": [
       "                                               review  true_sentiment  \\\n",
       "0   One of the other reviewers has mentioned that ...               1   \n",
       "1   A wonderful little production. The filming tec...               1   \n",
       "2   I thought this was a wonderful way to spend ti...               1   \n",
       "3   Basically there's a family where a little boy ...               0   \n",
       "4   Petter Mattei's \"Love in the Time of Money\" is...               1   \n",
       "..                                                ...             ...   \n",
       "95  Daniel Day-Lewis is the most versatile actor a...               1   \n",
       "96  My guess would be this was originally going to...               0   \n",
       "97  Well, I like to watch bad horror B-Movies, cau...               0   \n",
       "98  This IS the worst movie I have ever seen, as w...               0   \n",
       "99  I have been a Mario fan for as long as I can r...               1   \n",
       "\n",
       "    SiEBERT_pred_sentiment  SiEBERT_score  deBERTa_pred_sentiment  \\\n",
       "0                        1       0.998805                       1   \n",
       "1                        1       0.998936                       1   \n",
       "2                        1       0.998932                       1   \n",
       "3                        0       0.999490                       0   \n",
       "4                        1       0.998886                       1   \n",
       "..                     ...            ...                     ...   \n",
       "95                       1       0.998918                       1   \n",
       "96                       0       0.999513                       0   \n",
       "97                       0       0.999502                       0   \n",
       "98                       0       0.999515                       0   \n",
       "99                       1       0.998911                       1   \n",
       "\n",
       "    deBERTa_score  \n",
       "0        0.992541  \n",
       "1        0.994760  \n",
       "2        0.994600  \n",
       "3        0.992297  \n",
       "4        0.994778  \n",
       "..            ...  \n",
       "95       0.994705  \n",
       "96       0.992594  \n",
       "97       0.993925  \n",
       "98       0.993955  \n",
       "99       0.982875  \n",
       "\n",
       "[100 rows x 6 columns]"
      ]
     },
     "execution_count": 23,
     "metadata": {},
     "output_type": "execute_result"
    }
   ],
   "source": [
    "results"
   ]
  },
  {
   "cell_type": "markdown",
   "metadata": {},
   "source": [
    "### SiEBERT"
   ]
  },
  {
   "cell_type": "code",
   "execution_count": 24,
   "metadata": {},
   "outputs": [
    {
     "data": {
      "text/html": [
       "<div>\n",
       "<style scoped>\n",
       "    .dataframe tbody tr th:only-of-type {\n",
       "        vertical-align: middle;\n",
       "    }\n",
       "\n",
       "    .dataframe tbody tr th {\n",
       "        vertical-align: top;\n",
       "    }\n",
       "\n",
       "    .dataframe thead th {\n",
       "        text-align: right;\n",
       "    }\n",
       "</style>\n",
       "<table border=\"1\" class=\"dataframe\">\n",
       "  <thead>\n",
       "    <tr style=\"text-align: right;\">\n",
       "      <th></th>\n",
       "      <th>review</th>\n",
       "      <th>true_sentiment</th>\n",
       "      <th>SiEBERT_pred_sentiment</th>\n",
       "      <th>SiEBERT_score</th>\n",
       "      <th>deBERTa_pred_sentiment</th>\n",
       "      <th>deBERTa_score</th>\n",
       "    </tr>\n",
       "  </thead>\n",
       "  <tbody>\n",
       "    <tr>\n",
       "      <th>11</th>\n",
       "      <td>I saw this movie when I was about 12 when it c...</td>\n",
       "      <td>0</td>\n",
       "      <td>1</td>\n",
       "      <td>0.994920</td>\n",
       "      <td>0</td>\n",
       "      <td>0.849301</td>\n",
       "    </tr>\n",
       "    <tr>\n",
       "      <th>16</th>\n",
       "      <td>Some films just simply should not be remade. T...</td>\n",
       "      <td>1</td>\n",
       "      <td>0</td>\n",
       "      <td>0.998360</td>\n",
       "      <td>1</td>\n",
       "      <td>0.976676</td>\n",
       "    </tr>\n",
       "    <tr>\n",
       "      <th>25</th>\n",
       "      <td>The Karen Carpenter Story shows a little more ...</td>\n",
       "      <td>1</td>\n",
       "      <td>0</td>\n",
       "      <td>0.980850</td>\n",
       "      <td>1</td>\n",
       "      <td>0.974059</td>\n",
       "    </tr>\n",
       "    <tr>\n",
       "      <th>51</th>\n",
       "      <td>***SPOILERS*** All too, in real life as well a...</td>\n",
       "      <td>1</td>\n",
       "      <td>0</td>\n",
       "      <td>0.979734</td>\n",
       "      <td>1</td>\n",
       "      <td>0.780553</td>\n",
       "    </tr>\n",
       "    <tr>\n",
       "      <th>70</th>\n",
       "      <td>Caddyshack Two is a good movie by itself but c...</td>\n",
       "      <td>0</td>\n",
       "      <td>1</td>\n",
       "      <td>0.996044</td>\n",
       "      <td>0</td>\n",
       "      <td>0.937699</td>\n",
       "    </tr>\n",
       "  </tbody>\n",
       "</table>\n",
       "</div>"
      ],
      "text/plain": [
       "                                               review  true_sentiment  \\\n",
       "11  I saw this movie when I was about 12 when it c...               0   \n",
       "16  Some films just simply should not be remade. T...               1   \n",
       "25  The Karen Carpenter Story shows a little more ...               1   \n",
       "51  ***SPOILERS*** All too, in real life as well a...               1   \n",
       "70  Caddyshack Two is a good movie by itself but c...               0   \n",
       "\n",
       "    SiEBERT_pred_sentiment  SiEBERT_score  deBERTa_pred_sentiment  \\\n",
       "11                       1       0.994920                       0   \n",
       "16                       0       0.998360                       1   \n",
       "25                       0       0.980850                       1   \n",
       "51                       0       0.979734                       1   \n",
       "70                       1       0.996044                       0   \n",
       "\n",
       "    deBERTa_score  \n",
       "11       0.849301  \n",
       "16       0.976676  \n",
       "25       0.974059  \n",
       "51       0.780553  \n",
       "70       0.937699  "
      ]
     },
     "execution_count": 24,
     "metadata": {},
     "output_type": "execute_result"
    }
   ],
   "source": [
    "results[results['true_sentiment'] != results['SiEBERT_pred_sentiment']]"
   ]
  },
  {
   "cell_type": "code",
   "execution_count": 25,
   "metadata": {},
   "outputs": [
    {
     "name": "stdout",
     "output_type": "stream",
     "text": [
      "[[56  2]\n",
      " [ 3 39]]\n"
     ]
    }
   ],
   "source": [
    "from sklearn.metrics import confusion_matrix\n",
    "\n",
    "print(confusion_matrix(results['true_sentiment'], results['SiEBERT_pred_sentiment']))"
   ]
  },
  {
   "cell_type": "code",
   "execution_count": 26,
   "metadata": {},
   "outputs": [
    {
     "name": "stdout",
     "output_type": "stream",
     "text": [
      "              precision    recall  f1-score   support\n",
      "\n",
      "           0       0.95      0.97      0.96        58\n",
      "           1       0.95      0.93      0.94        42\n",
      "\n",
      "    accuracy                           0.95       100\n",
      "   macro avg       0.95      0.95      0.95       100\n",
      "weighted avg       0.95      0.95      0.95       100\n",
      "\n"
     ]
    }
   ],
   "source": [
    "from sklearn.metrics import classification_report\n",
    "\n",
    "print(classification_report(results['true_sentiment'], results['SiEBERT_pred_sentiment']))"
   ]
  },
  {
   "cell_type": "markdown",
   "metadata": {},
   "source": [
    "### DeBerta-v2"
   ]
  },
  {
   "cell_type": "code",
   "execution_count": 27,
   "metadata": {},
   "outputs": [
    {
     "data": {
      "text/html": [
       "<div>\n",
       "<style scoped>\n",
       "    .dataframe tbody tr th:only-of-type {\n",
       "        vertical-align: middle;\n",
       "    }\n",
       "\n",
       "    .dataframe tbody tr th {\n",
       "        vertical-align: top;\n",
       "    }\n",
       "\n",
       "    .dataframe thead th {\n",
       "        text-align: right;\n",
       "    }\n",
       "</style>\n",
       "<table border=\"1\" class=\"dataframe\">\n",
       "  <thead>\n",
       "    <tr style=\"text-align: right;\">\n",
       "      <th></th>\n",
       "      <th>review</th>\n",
       "      <th>true_sentiment</th>\n",
       "      <th>SiEBERT_pred_sentiment</th>\n",
       "      <th>SiEBERT_score</th>\n",
       "      <th>deBERTa_pred_sentiment</th>\n",
       "      <th>deBERTa_score</th>\n",
       "    </tr>\n",
       "  </thead>\n",
       "  <tbody>\n",
       "    <tr>\n",
       "      <th>67</th>\n",
       "      <td>I really like Salman Kahn so I was really disa...</td>\n",
       "      <td>0</td>\n",
       "      <td>0</td>\n",
       "      <td>0.99922</td>\n",
       "      <td>1</td>\n",
       "      <td>0.812355</td>\n",
       "    </tr>\n",
       "  </tbody>\n",
       "</table>\n",
       "</div>"
      ],
      "text/plain": [
       "                                               review  true_sentiment  \\\n",
       "67  I really like Salman Kahn so I was really disa...               0   \n",
       "\n",
       "    SiEBERT_pred_sentiment  SiEBERT_score  deBERTa_pred_sentiment  \\\n",
       "67                       0        0.99922                       1   \n",
       "\n",
       "    deBERTa_score  \n",
       "67       0.812355  "
      ]
     },
     "execution_count": 27,
     "metadata": {},
     "output_type": "execute_result"
    }
   ],
   "source": [
    "results[results['true_sentiment'] != results['deBERTa_pred_sentiment']]"
   ]
  },
  {
   "cell_type": "code",
   "execution_count": 28,
   "metadata": {},
   "outputs": [
    {
     "name": "stdout",
     "output_type": "stream",
     "text": [
      "[[57  1]\n",
      " [ 0 42]]\n"
     ]
    }
   ],
   "source": [
    "print(confusion_matrix(results['true_sentiment'], results['deBERTa_pred_sentiment']))"
   ]
  },
  {
   "cell_type": "code",
   "execution_count": 29,
   "metadata": {},
   "outputs": [
    {
     "name": "stdout",
     "output_type": "stream",
     "text": [
      "              precision    recall  f1-score   support\n",
      "\n",
      "           0       1.00      0.98      0.99        58\n",
      "           1       0.98      1.00      0.99        42\n",
      "\n",
      "    accuracy                           0.99       100\n",
      "   macro avg       0.99      0.99      0.99       100\n",
      "weighted avg       0.99      0.99      0.99       100\n",
      "\n"
     ]
    }
   ],
   "source": [
    "print(classification_report(results['true_sentiment'], results['deBERTa_pred_sentiment']))"
   ]
  }
 ],
 "metadata": {
  "kernelspec": {
   "display_name": ".SentimentAnalysisHuggingFace",
   "language": "python",
   "name": "python3"
  },
  "language_info": {
   "codemirror_mode": {
    "name": "ipython",
    "version": 3
   },
   "file_extension": ".py",
   "mimetype": "text/x-python",
   "name": "python",
   "nbconvert_exporter": "python",
   "pygments_lexer": "ipython3",
   "version": "3.10.14"
  }
 },
 "nbformat": 4,
 "nbformat_minor": 2
}
